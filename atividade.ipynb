{
 "cells": [
  {
   "cell_type": "code",
   "execution_count": 14,
   "metadata": {},
   "outputs": [
    {
     "name": "stdout",
     "output_type": "stream",
     "text": [
      "Requirement already satisfied: scikit-learn in c:\\users\\alvar\\appdata\\local\\programs\\python\\python313\\lib\\site-packages (1.6.1)\n",
      "Requirement already satisfied: numpy>=1.19.5 in c:\\users\\alvar\\appdata\\local\\programs\\python\\python313\\lib\\site-packages (from scikit-learn) (2.2.3)\n",
      "Requirement already satisfied: scipy>=1.6.0 in c:\\users\\alvar\\appdata\\local\\programs\\python\\python313\\lib\\site-packages (from scikit-learn) (1.15.2)\n",
      "Requirement already satisfied: joblib>=1.2.0 in c:\\users\\alvar\\appdata\\local\\programs\\python\\python313\\lib\\site-packages (from scikit-learn) (1.4.2)\n",
      "Requirement already satisfied: threadpoolctl>=3.1.0 in c:\\users\\alvar\\appdata\\local\\programs\\python\\python313\\lib\\site-packages (from scikit-learn) (3.6.0)\n"
     ]
    }
   ],
   "source": [
    "!pip install scikit-learn"
   ]
  },
  {
   "cell_type": "code",
   "execution_count": 15,
   "metadata": {},
   "outputs": [
    {
     "name": "stdout",
     "output_type": "stream",
     "text": [
      "        tv     radio  social_media      sales\n",
      "0  13000.0   9237.76       2409.57   46677.90\n",
      "1  41000.0  15886.45       2913.41  150177.83\n",
      "2  25000.0  12000.00       1800.00   70000.00\n",
      "3  37000.0  14000.00       2100.00  120000.00\n",
      "4  29000.0  11000.00       2500.00   88000.00\n"
     ]
    }
   ],
   "source": [
    "import pandas as pd\n",
    "sales_df = pd.read_csv(\"sales_df.csv\")\n",
    "print(sales_df.head())\n"
   ]
  },
  {
   "cell_type": "code",
   "execution_count": 16,
   "metadata": {},
   "outputs": [
    {
     "name": "stdout",
     "output_type": "stream",
     "text": [
      "Predictions: [ 73936.21194032 140674.36333499], Actual Values: [ 75000.   150177.83]\n"
     ]
    }
   ],
   "source": [
    "# Importar bibliotecas necessárias\n",
    "from sklearn.linear_model import LinearRegression\n",
    "from sklearn.model_selection import train_test_split\n",
    "\n",
    "# Criar os arrays X (features) e y (target)\n",
    "X = sales_df.drop(\"sales\", axis=1).values\n",
    "y = sales_df[\"sales\"].values\n",
    "\n",
    "# Dividir em treino e teste\n",
    "X_train, X_test, y_train, y_test = train_test_split(X, y, test_size=0.3, random_state=42)\n",
    "\n",
    "# Instanciar o modelo de regressão linear\n",
    "reg = LinearRegression()\n",
    "\n",
    "# Ajustar o modelo com os dados de treino\n",
    "reg.fit(X_train, y_train)\n",
    "\n",
    "# Fazer previsões com os dados de teste\n",
    "y_pred = reg.predict(X_test)\n",
    "\n",
    "# Visualizar previsões e valores reais\n",
    "print(\"Predictions: {}, Actual Values: {}\".format(y_pred[:2], y_test[:2]))\n"
   ]
  },
  {
   "cell_type": "code",
   "execution_count": 17,
   "metadata": {},
   "outputs": [
    {
     "name": "stdout",
     "output_type": "stream",
     "text": [
      "R^2: 0.9696\n",
      "RMSE: 5521.22\n",
      "Previsões:  [ 73936.21194032 140674.36333499]\n",
      "Valores reais:  [ 75000.   150177.83]\n"
     ]
    }
   ],
   "source": [
    "# Calcular R²\n",
    "r_squared = reg.score(X_test, y_test)\n",
    "\n",
    "# Calcular RMSE com compatibilidade total\n",
    "import numpy as np\n",
    "rmse = np.sqrt(mean_squared_error(y_test, y_pred))\n",
    "\n",
    "# Mostrar resultados\n",
    "print(\"R^2: {:.4f}\".format(r_squared))\n",
    "print(\"RMSE: {:.2f}\".format(rmse))\n",
    "print(\"Previsões: \", y_pred[:2])\n",
    "print(\"Valores reais: \", y_test[:2])\n"
   ]
  }
 ],
 "metadata": {
  "kernelspec": {
   "display_name": "Python 3",
   "language": "python",
   "name": "python3"
  },
  "language_info": {
   "codemirror_mode": {
    "name": "ipython",
    "version": 3
   },
   "file_extension": ".py",
   "mimetype": "text/x-python",
   "name": "python",
   "nbconvert_exporter": "python",
   "pygments_lexer": "ipython3",
   "version": "3.13.2"
  }
 },
 "nbformat": 4,
 "nbformat_minor": 2
}
